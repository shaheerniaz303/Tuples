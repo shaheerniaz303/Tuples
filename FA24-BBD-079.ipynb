{
 "cells": [
  {
   "cell_type": "code",
   "execution_count": 1,
   "id": "8e94c7ed",
   "metadata": {},
   "outputs": [],
   "source": [
    "academic_tuple = ('name', 'father name', 'reg number', 'CNIC number', 'CGPA')"
   ]
  },
  {
   "cell_type": "code",
   "execution_count": 4,
   "id": "7fe2149e",
   "metadata": {},
   "outputs": [],
   "source": [
    "MR_registration = ('FA24-BBD-079')"
   ]
  },
  {
   "cell_type": "code",
   "execution_count": 5,
   "id": "dbd05fc8",
   "metadata": {},
   "outputs": [],
   "source": [
    "# A tuple of integers\n",
    "numbers_tuple = (1, 2, 3, 4)\n",
    "\n",
    "# A tuple of strings\n",
    "fruits_tuple = ('apple', 'banana', 'cheery')\n",
    "\n",
    "# A mixed tuple\n",
    "mixed_tuple = (1, \"apple\", 3.24, True)\n",
    "\n",
    "# A tuple with a single item\n",
    "single_item_tuple = (5,)"
   ]
  },
  {
   "cell_type": "code",
   "execution_count": 8,
   "id": "8053b9aa",
   "metadata": {},
   "outputs": [
    {
     "name": "stdout",
     "output_type": "stream",
     "text": [
      "banana\n",
      "banana\n"
     ]
    }
   ],
   "source": [
    "fruits = ('banana', 'apple', 'banana', 'cheery', 'banana')\n",
    "print(fruits[0])\n",
    "print(fruits[2])\n"
   ]
  },
  {
   "cell_type": "code",
   "execution_count": 9,
   "id": "5b861ed7",
   "metadata": {},
   "outputs": [
    {
     "name": "stdout",
     "output_type": "stream",
     "text": [
      "banana\n",
      "banana\n"
     ]
    }
   ],
   "source": [
    "print(fruits[-1])\n",
    "print(fruits[-3])"
   ]
  },
  {
   "cell_type": "code",
   "execution_count": 19,
   "id": "4c2e1183",
   "metadata": {},
   "outputs": [
    {
     "name": "stdout",
     "output_type": "stream",
     "text": [
      "('apple', 'cheery', 'orange', 'guava', 'banana', 'pineapple', 'sugarcane')\n"
     ]
    }
   ],
   "source": [
    "tuple1 = ('apple', 'cheery', 'orange', 'guava')\n",
    "tuple2 = ('banana', 'pineapple', 'sugarcane')\n",
    "combined_tuple = tuple1 + tuple2\n",
    "print(combined_tuple)"
   ]
  },
  {
   "cell_type": "code",
   "execution_count": 17,
   "id": "27199163",
   "metadata": {},
   "outputs": [
    {
     "name": "stdout",
     "output_type": "stream",
     "text": [
      "('Dear Shaheer', 'Dear Shaheer', 'Dear Shaheer', 'Dear Shaheer', 'Dear Shaheer')\n"
     ]
    }
   ],
   "source": [
    "tuple3 = ('Dear Shaheer',)\n",
    "repeated_tuple = tuple3 * 5\n",
    "print(repeated_tuple)"
   ]
  },
  {
   "cell_type": "code",
   "execution_count": 21,
   "id": "654611a2",
   "metadata": {},
   "outputs": [
    {
     "name": "stdout",
     "output_type": "stream",
     "text": [
      "4\n"
     ]
    }
   ],
   "source": [
    "tuple1 = ('apple', 'cheery', 'orange', 'guava')\n",
    "\n",
    "count_a = sum(s.count('a') for s in tuple1)\n",
    "print(count_a)"
   ]
  }
 ],
 "metadata": {
  "kernelspec": {
   "display_name": "Python 3 (ipykernel)",
   "language": "python",
   "name": "python3"
  },
  "language_info": {
   "codemirror_mode": {
    "name": "ipython",
    "version": 3
   },
   "file_extension": ".py",
   "mimetype": "text/x-python",
   "name": "python",
   "nbconvert_exporter": "python",
   "pygments_lexer": "ipython3",
   "version": "3.9.12"
  }
 },
 "nbformat": 4,
 "nbformat_minor": 5
}
